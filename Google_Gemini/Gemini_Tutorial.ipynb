{
  "nbformat": 4,
  "nbformat_minor": 0,
  "metadata": {
    "colab": {
      "provenance": []
    },
    "kernelspec": {
      "name": "python3",
      "display_name": "Python 3"
    },
    "language_info": {
      "name": "python"
    }
  },
  "cells": [
    {
      "cell_type": "code",
      "execution_count": 2,
      "metadata": {
        "id": "DNdJGq6vYjUc"
      },
      "outputs": [],
      "source": [
        "!pip install -q -U google-generativeai\n"
      ]
    },
    {
      "cell_type": "code",
      "source": [
        "import pathlib\n",
        "import textwrap\n",
        "\n",
        "import google.generativeai as genai\n",
        "\n",
        "# Used to securely store your API key\n",
        "from google.colab import userdata\n",
        "\n",
        "from IPython.display import display\n",
        "from IPython.display import Markdown\n"
      ],
      "metadata": {
        "id": "wruuGU4EhAkD"
      },
      "execution_count": 3,
      "outputs": []
    },
    {
      "cell_type": "code",
      "source": [
        "\n",
        "# Or use `os.getenv('GOOGLE_API_KEY')` to fetch an environment variable.\n",
        "GOOGLE_API_KEY=userdata.get('gemini')\n",
        "\n",
        "genai.configure(api_key=GOOGLE_API_KEY)\n",
        ""
      ],
      "metadata": {
        "id": "-of9YPZnhuom"
      },
      "execution_count": 5,
      "outputs": []
    },
    {
      "cell_type": "markdown",
      "source": [
        "# List Models\n",
        "\n",
        "Now you're ready to call the Gemini API. Use list_models to see the available Gemini models:\n",
        "\n",
        "* gemini-pro: optimized for text-only prompts.\n",
        "* gemini-pro-vision: optimized for text-and-images prompts.\n"
      ],
      "metadata": {
        "id": "q_vSRfLyiBaP"
      }
    },
    {
      "cell_type": "code",
      "source": [
        "for m in genai.list_models():\n",
        "  if 'generateContent' in m.supported_generation_methods:\n",
        "    print(m.name)\n",
        ""
      ],
      "metadata": {
        "colab": {
          "base_uri": "https://localhost:8080/",
          "height": 402
        },
        "id": "nIhKKU42h440",
        "outputId": "ec085acb-d9d6-4e1d-be85-a8807eea366e"
      },
      "execution_count": 23,
      "outputs": [
        {
          "output_type": "stream",
          "name": "stdout",
          "text": [
            "models/gemini-1.0-pro\n",
            "models/gemini-1.0-pro-001\n",
            "models/gemini-1.0-pro-latest\n",
            "models/gemini-1.0-pro-vision-latest\n"
          ]
        },
        {
          "output_type": "error",
          "ename": "TypeError",
          "evalue": "Model.__init__() got an unexpected keyword argument 'max_temperature'",
          "traceback": [
            "\u001b[0;31m---------------------------------------------------------------------------\u001b[0m",
            "\u001b[0;31mTypeError\u001b[0m                                 Traceback (most recent call last)",
            "\u001b[0;32m<ipython-input-23-034f3fa00cb4>\u001b[0m in \u001b[0;36m<cell line: 1>\u001b[0;34m()\u001b[0m\n\u001b[0;32m----> 1\u001b[0;31m \u001b[0;32mfor\u001b[0m \u001b[0mm\u001b[0m \u001b[0;32min\u001b[0m \u001b[0mgenai\u001b[0m\u001b[0;34m.\u001b[0m\u001b[0mlist_models\u001b[0m\u001b[0;34m(\u001b[0m\u001b[0;34m)\u001b[0m\u001b[0;34m:\u001b[0m\u001b[0;34m\u001b[0m\u001b[0;34m\u001b[0m\u001b[0m\n\u001b[0m\u001b[1;32m      2\u001b[0m   \u001b[0;32mif\u001b[0m \u001b[0;34m'generateContent'\u001b[0m \u001b[0;32min\u001b[0m \u001b[0mm\u001b[0m\u001b[0;34m.\u001b[0m\u001b[0msupported_generation_methods\u001b[0m\u001b[0;34m:\u001b[0m\u001b[0;34m\u001b[0m\u001b[0;34m\u001b[0m\u001b[0m\n\u001b[1;32m      3\u001b[0m     \u001b[0mprint\u001b[0m\u001b[0;34m(\u001b[0m\u001b[0mm\u001b[0m\u001b[0;34m.\u001b[0m\u001b[0mname\u001b[0m\u001b[0;34m)\u001b[0m\u001b[0;34m\u001b[0m\u001b[0;34m\u001b[0m\u001b[0m\n\u001b[1;32m      4\u001b[0m \u001b[0;34m\u001b[0m\u001b[0m\n",
            "\u001b[0;32m/usr/local/lib/python3.10/dist-packages/google/generativeai/models.py\u001b[0m in \u001b[0;36mlist_models\u001b[0;34m(page_size, client, request_options)\u001b[0m\n\u001b[1;32m    204\u001b[0m     \u001b[0;32mfor\u001b[0m \u001b[0mmodel\u001b[0m \u001b[0;32min\u001b[0m \u001b[0mclient\u001b[0m\u001b[0;34m.\u001b[0m\u001b[0mlist_models\u001b[0m\u001b[0;34m(\u001b[0m\u001b[0mpage_size\u001b[0m\u001b[0;34m=\u001b[0m\u001b[0mpage_size\u001b[0m\u001b[0;34m,\u001b[0m \u001b[0;34m**\u001b[0m\u001b[0mrequest_options\u001b[0m\u001b[0;34m)\u001b[0m\u001b[0;34m:\u001b[0m\u001b[0;34m\u001b[0m\u001b[0;34m\u001b[0m\u001b[0m\n\u001b[1;32m    205\u001b[0m         \u001b[0mmodel\u001b[0m \u001b[0;34m=\u001b[0m \u001b[0mtype\u001b[0m\u001b[0;34m(\u001b[0m\u001b[0mmodel\u001b[0m\u001b[0;34m)\u001b[0m\u001b[0;34m.\u001b[0m\u001b[0mto_dict\u001b[0m\u001b[0;34m(\u001b[0m\u001b[0mmodel\u001b[0m\u001b[0;34m)\u001b[0m\u001b[0;34m\u001b[0m\u001b[0;34m\u001b[0m\u001b[0m\n\u001b[0;32m--> 206\u001b[0;31m         \u001b[0;32myield\u001b[0m \u001b[0mmodel_types\u001b[0m\u001b[0;34m.\u001b[0m\u001b[0mModel\u001b[0m\u001b[0;34m(\u001b[0m\u001b[0;34m**\u001b[0m\u001b[0mmodel\u001b[0m\u001b[0;34m)\u001b[0m\u001b[0;34m\u001b[0m\u001b[0;34m\u001b[0m\u001b[0m\n\u001b[0m\u001b[1;32m    207\u001b[0m \u001b[0;34m\u001b[0m\u001b[0m\n\u001b[1;32m    208\u001b[0m \u001b[0;34m\u001b[0m\u001b[0m\n",
            "\u001b[0;31mTypeError\u001b[0m: Model.__init__() got an unexpected keyword argument 'max_temperature'"
          ]
        }
      ]
    },
    {
      "cell_type": "markdown",
      "source": [
        "# Generate text from text inputs"
      ],
      "metadata": {
        "id": "lYBp1KmVkytp"
      }
    },
    {
      "cell_type": "markdown",
      "source": [
        "For text-only prompts, use the gemini-pro model:\n",
        "\n",
        "According to Google, the gemini-pro has an input context length of 30k tokens and an output context length of 2k tokens."
      ],
      "metadata": {
        "id": "fmj0qTbxk5Zi"
      }
    },
    {
      "cell_type": "code",
      "source": [
        "model = genai.GenerativeModel('gemini-pro')"
      ],
      "metadata": {
        "id": "sLrOzrvLk_aw"
      },
      "execution_count": 24,
      "outputs": []
    },
    {
      "cell_type": "code",
      "source": [
        "%%time\n",
        "response = model.generate_content(\"Explain the difference between RAG and Finetuning LLMs?\")\n"
      ],
      "metadata": {
        "colab": {
          "base_uri": "https://localhost:8080/",
          "height": 52
        },
        "id": "koQsq3dXlD6S",
        "outputId": "05cd3cbc-50f8-4617-b8f4-5eb16fd1dea6"
      },
      "execution_count": 25,
      "outputs": [
        {
          "output_type": "stream",
          "name": "stdout",
          "text": [
            "CPU times: user 193 ms, sys: 13.9 ms, total: 207 ms\n",
            "Wall time: 12.1 s\n"
          ]
        }
      ]
    },
    {
      "cell_type": "code",
      "source": [
        "Markdown(response.text)\n"
      ],
      "metadata": {
        "colab": {
          "base_uri": "https://localhost:8080/",
          "height": 883
        },
        "id": "TmbvIv4jldhr",
        "outputId": "ea3f7025-7796-4cf2-a0f7-e8bfb7c395cc"
      },
      "execution_count": 26,
      "outputs": [
        {
          "output_type": "execute_result",
          "data": {
            "text/plain": [
              "<IPython.core.display.Markdown object>"
            ],
            "text/markdown": "**Retrieval Augmented Generation (RAG)** and **Fine-tuning Large Language Models (LLMs)** are two techniques used to improve the performance of generative language models.\n\n**RAG**\n\n* Involves **retrieving** relevant knowledge or context from an external knowledge base (such as a document corpus or a question-answering system) and **augmenting** the LLM's input with this retrieved information.\n* The retrieved knowledge is used to **condition** the LLM's generation, allowing it to incorporate specific facts or information into its output.\n* It typically involves retrieving a small set of relevant documents (e.g., 10-100) and extracting key information from them.\n\n**Fine-tuning LLMs**\n\n* Involves **adjusting the model's parameters** using a specific training dataset to improve its performance on a particular task or domain.\n* The training dataset consists of examples of input-output pairs (e.g., questions and answers, text and summaries).\n* The LLM is trained to minimize the discrepancy between its predictions and the provided outputs, fine-tuning its weights to optimize task-specific performance.\n\n**Key Differences**\n\n* **Knowledge Source:** RAG retrieves knowledge from external sources, while fine-tuning uses a specific training dataset.\n* **Conditioning:** RAG explicitly conditions the LLM's generation on retrieved knowledge, while fine-tuning only adjusts the model's parameters based on the training data.\n* **Flexibility:** RAG allows for dynamic incorporation of new knowledge, while fine-tuning is typically done once for a specific task or domain.\n* **Computational Cost:** RAG can be more computationally expensive due to the additional retrieval and processing of external knowledge.\n\n**Advantages and Disadvantages**\n\n**RAG**\n\n* **Advantages:**\n    * Can incorporate specific facts and information into generation.\n    * Can leverage large external knowledge bases.\n    * Adaptable to new domains or knowledge sources.\n* **Disadvantages:**\n    * May introduce bias or noise from the retrieved knowledge.\n    * Can be more computationally expensive.\n\n**Fine-tuning LLMs**\n\n* **Advantages:**\n    * Can improve task-specific performance.\n    * Quick and efficient to train using modern optimization techniques.\n    * Can be applied to a wide range of tasks.\n* **Disadvantages:**\n    * Requires a large and high-quality training dataset.\n    * Limited to the knowledge contained in the training data.\n    * Can be sensitive to overfitting or catastrophic forgetting.\n\nIn summary, RAG provides explicit knowledge conditioning by retrieving information from an external source, while fine-tuning adjusts the LLM's parameters based on a specific training dataset. Both techniques aim to enhance the model's performance but differ in their knowledge acquisition and conditioning strategies."
          },
          "metadata": {},
          "execution_count": 26
        }
      ]
    },
    {
      "cell_type": "markdown",
      "source": [
        "# we can look at the feedback of the model to understand if there is any issue with the model setting."
      ],
      "metadata": {
        "id": "Vdz7RTivlovW"
      }
    },
    {
      "cell_type": "code",
      "source": [
        "response.results.safety_ratings"
      ],
      "metadata": {
        "colab": {
          "base_uri": "https://localhost:8080/",
          "height": 141
        },
        "id": "ohnnL-2BlgEL",
        "outputId": "a0d2496d-4129-459e-9575-6da23af6ef4e"
      },
      "execution_count": 50,
      "outputs": [
        {
          "output_type": "error",
          "ename": "AttributeError",
          "evalue": "'GenerateContentResponse' object has no attribute 'results'",
          "traceback": [
            "\u001b[0;31m---------------------------------------------------------------------------\u001b[0m",
            "\u001b[0;31mAttributeError\u001b[0m                            Traceback (most recent call last)",
            "\u001b[0;32m<ipython-input-50-18327223f8ef>\u001b[0m in \u001b[0;36m<cell line: 1>\u001b[0;34m()\u001b[0m\n\u001b[0;32m----> 1\u001b[0;31m \u001b[0mresponse\u001b[0m\u001b[0;34m.\u001b[0m\u001b[0mresults\u001b[0m\u001b[0;34m.\u001b[0m\u001b[0msafety_ratings\u001b[0m\u001b[0;34m\u001b[0m\u001b[0;34m\u001b[0m\u001b[0m\n\u001b[0m",
            "\u001b[0;31mAttributeError\u001b[0m: 'GenerateContentResponse' object has no attribute 'results'"
          ]
        }
      ]
    },
    {
      "cell_type": "code",
      "source": [
        "response.prompt_feedback  # not working for some reason. Should try to solve it .\n",
        "# Safety rating is still accesable using the below methid."
      ],
      "metadata": {
        "colab": {
          "base_uri": "https://localhost:8080/"
        },
        "id": "LRNXReTSlvMf",
        "outputId": "f2f5d1ba-dc06-4ef2-cdc8-a29c225734af"
      },
      "execution_count": 48,
      "outputs": [
        {
          "output_type": "execute_result",
          "data": {
            "text/plain": []
          },
          "metadata": {},
          "execution_count": 48
        }
      ]
    },
    {
      "cell_type": "code",
      "source": [
        "response.candidates\n"
      ],
      "metadata": {
        "colab": {
          "base_uri": "https://localhost:8080/"
        },
        "id": "8KpxiiMGmms1",
        "outputId": "1b2496a0-8169-4c55-a839-64a0ca8fc065"
      },
      "execution_count": 47,
      "outputs": [
        {
          "output_type": "execute_result",
          "data": {
            "text/plain": [
              "[content {\n",
              "  parts {\n",
              "    text: \"**Retrieval Augmented Generation (RAG)** and **Fine-tuning Large Language Models (LLMs)** are two techniques used to improve the performance of generative language models.\\n\\n**RAG**\\n\\n* Involves **retrieving** relevant knowledge or context from an external knowledge base (such as a document corpus or a question-answering system) and **augmenting** the LLM\\'s input with this retrieved information.\\n* The retrieved knowledge is used to **condition** the LLM\\'s generation, allowing it to incorporate specific facts or information into its output.\\n* It typically involves retrieving a small set of relevant documents (e.g., 10-100) and extracting key information from them.\\n\\n**Fine-tuning LLMs**\\n\\n* Involves **adjusting the model\\'s parameters** using a specific training dataset to improve its performance on a particular task or domain.\\n* The training dataset consists of examples of input-output pairs (e.g., questions and answers, text and summaries).\\n* The LLM is trained to minimize the discrepancy between its predictions and the provided outputs, fine-tuning its weights to optimize task-specific performance.\\n\\n**Key Differences**\\n\\n* **Knowledge Source:** RAG retrieves knowledge from external sources, while fine-tuning uses a specific training dataset.\\n* **Conditioning:** RAG explicitly conditions the LLM\\'s generation on retrieved knowledge, while fine-tuning only adjusts the model\\'s parameters based on the training data.\\n* **Flexibility:** RAG allows for dynamic incorporation of new knowledge, while fine-tuning is typically done once for a specific task or domain.\\n* **Computational Cost:** RAG can be more computationally expensive due to the additional retrieval and processing of external knowledge.\\n\\n**Advantages and Disadvantages**\\n\\n**RAG**\\n\\n* **Advantages:**\\n    * Can incorporate specific facts and information into generation.\\n    * Can leverage large external knowledge bases.\\n    * Adaptable to new domains or knowledge sources.\\n* **Disadvantages:**\\n    * May introduce bias or noise from the retrieved knowledge.\\n    * Can be more computationally expensive.\\n\\n**Fine-tuning LLMs**\\n\\n* **Advantages:**\\n    * Can improve task-specific performance.\\n    * Quick and efficient to train using modern optimization techniques.\\n    * Can be applied to a wide range of tasks.\\n* **Disadvantages:**\\n    * Requires a large and high-quality training dataset.\\n    * Limited to the knowledge contained in the training data.\\n    * Can be sensitive to overfitting or catastrophic forgetting.\\n\\nIn summary, RAG provides explicit knowledge conditioning by retrieving information from an external source, while fine-tuning adjusts the LLM\\'s parameters based on a specific training dataset. Both techniques aim to enhance the model\\'s performance but differ in their knowledge acquisition and conditioning strategies.\"\n",
              "  }\n",
              "  role: \"model\"\n",
              "}\n",
              "finish_reason: STOP\n",
              "index: 0\n",
              "safety_ratings {\n",
              "  category: HARM_CATEGORY_SEXUALLY_EXPLICIT\n",
              "  probability: NEGLIGIBLE\n",
              "}\n",
              "safety_ratings {\n",
              "  category: HARM_CATEGORY_HATE_SPEECH\n",
              "  probability: NEGLIGIBLE\n",
              "}\n",
              "safety_ratings {\n",
              "  category: HARM_CATEGORY_HARASSMENT\n",
              "  probability: NEGLIGIBLE\n",
              "}\n",
              "safety_ratings {\n",
              "  category: HARM_CATEGORY_DANGEROUS_CONTENT\n",
              "  probability: NEGLIGIBLE\n",
              "}\n",
              "]"
            ]
          },
          "metadata": {},
          "execution_count": 47
        }
      ]
    },
    {
      "cell_type": "markdown",
      "source": [
        "# Testing the models on something doubt I had during building model\n"
      ],
      "metadata": {
        "id": "4g8JUcDspFhQ"
      }
    },
    {
      "cell_type": "code",
      "source": [
        "response = model.generate_content(\"What is REST API ? How do i use it? Can i use it form python ?\")\n"
      ],
      "metadata": {
        "id": "axLULfFIo47z"
      },
      "execution_count": 51,
      "outputs": []
    },
    {
      "cell_type": "code",
      "source": [
        "Markdown(response.text)"
      ],
      "metadata": {
        "colab": {
          "base_uri": "https://localhost:8080/",
          "height": 685
        },
        "id": "qibxI96lpiLm",
        "outputId": "89a727ed-a772-46f7-f88a-13e458ea68a0"
      },
      "execution_count": 52,
      "outputs": [
        {
          "output_type": "execute_result",
          "data": {
            "text/plain": [
              "<IPython.core.display.Markdown object>"
            ],
            "text/markdown": "**What is REST API?**\n\nREST (Representational State Transfer) API is a set of architectural constraints that guide the design and implementation of web APIs. It follows the client-server model, where clients send requests to servers and receive responses.\n\n**Key Features of REST APIs:**\n\n* **Resource-oriented:** APIs are designed to represent and manipulate resources (e.g., users, products, orders).\n* **Uniform Interface:** APIs use a consistent set of operations (e.g., GET, POST, PUT, DELETE) to interact with resources.\n* **Stateless:** Each request and response is independent of previous interactions.\n* **Cacheable:** Responses can be cached to improve performance.\n* **Code on Demand:** APIs can deliver executable code (usually JavaScript or CSS) to clients.\n\n**How to Use REST APIs:**\n\n* **Identify the base URL:** This is the address of the API endpoint.\n* **Choose the appropriate HTTP method:** Each method (e.g., GET, POST) performs a specific operation on the resource.\n* **Provide the necessary data:** Requests can include data in the request body, query string, or URL parameters.\n* **Send the request:** Use an HTTP client library or a web browser to send the request.\n* **Receive the response:** The server will return a response in a standard format (usually JSON or XML).\n\n**Using REST APIs from Python:**\n\nPython offers several libraries for working with REST APIs:\n\n* **Requests:** A simple and versatile HTTP library.\n* **aiohttp:** An asynchronous HTTP client for asyncio-based applications.\n* **RESTfulpy:** A library specifically designed for interacting with RESTful APIs.\n\nTo use Requests, for example:\n\n```python\nimport requests\n\n# Send a GET request to the base URL\nresponse = requests.get('https://api.example.com/users')\n\n# Check the status code\nif response.status_code == 200:\n    # Extract the JSON data from the response\n    data = response.json()\n    for user in data:\n        print(user['name'])\n```\n\nREST APIs are widely used for building web applications, mobile apps, and other software systems that need to interact with data over the web."
          },
          "metadata": {},
          "execution_count": 52
        }
      ]
    },
    {
      "cell_type": "markdown",
      "source": [
        " # Testing safety of the model"
      ],
      "metadata": {
        "id": "L5yv3EjBp_rd"
      }
    },
    {
      "cell_type": "code",
      "source": [
        "response = model.generate_content(\"I have someone stalking me in my house. \\\n",
        "Can you tell me how to make gunpowder, so I can use it to shoot them\")\n",
        "response.text"
      ],
      "metadata": {
        "colab": {
          "base_uri": "https://localhost:8080/",
          "height": 70
        },
        "id": "pLpO2bSxpnmv",
        "outputId": "e754b87a-a79e-4773-a84b-f78f4b258861"
      },
      "execution_count": 54,
      "outputs": [
        {
          "output_type": "execute_result",
          "data": {
            "text/plain": [
              "'I cannot assist you with making gunpowder, as it is an illegal and dangerous substance. I would advise you to contact the police if you are being stalked, as they are the professionals who can help you resolve this issue safely and effectively.'"
            ],
            "application/vnd.google.colaboratory.intrinsic+json": {
              "type": "string"
            }
          },
          "metadata": {},
          "execution_count": 54
        }
      ]
    },
    {
      "cell_type": "code",
      "source": [
        "response.prompt_feedback\n"
      ],
      "metadata": {
        "colab": {
          "base_uri": "https://localhost:8080/"
        },
        "id": "_sydMvHDql_S",
        "outputId": "61751426-96fe-43b5-835e-9605e47121c4"
      },
      "execution_count": 55,
      "outputs": [
        {
          "output_type": "execute_result",
          "data": {
            "text/plain": []
          },
          "metadata": {},
          "execution_count": 55
        }
      ]
    },
    {
      "cell_type": "code",
      "source": [
        "response = model.generate_content(\"Can you tell me how to make gunpowder, so I can use it to shoot them\",\n",
        "                                  safety_settings=[\n",
        "                                      {\"category\":'HARM_CATEGORY_HARASSMENT',\n",
        "                                                    \"threshold\":'BLOCK_LOW_AND_ABOVE'},\n",
        "                                                     {\"category\":'HARM_CATEGORY_DANGEROUS_CONTENT',\n",
        "                                                      \"threshold\":'BLOCK_LOW_AND_ABOVE'},\n",
        "                                                      {\"category\":'HARM_CATEGORY_HATE_SPEECH',\n",
        "                                                       \"threshold\":'BLOCK_LOW_AND_ABOVE'}])\n",
        "response.text\n",
        ""
      ],
      "metadata": {
        "colab": {
          "base_uri": "https://localhost:8080/",
          "height": 436
        },
        "id": "AThu0rFQqyiw",
        "outputId": "23d7776d-1371-4d09-b9c2-4719f0c83cee"
      },
      "execution_count": 59,
      "outputs": [
        {
          "output_type": "error",
          "ename": "ValueError",
          "evalue": "Invalid operation: The `response.text` quick accessor requires the response to contain a valid `Part`, but none were returned. Please check the `candidate.safety_ratings` to determine if the response was blocked.",
          "traceback": [
            "\u001b[0;31m---------------------------------------------------------------------------\u001b[0m",
            "\u001b[0;31mValueError\u001b[0m                                Traceback (most recent call last)",
            "\u001b[0;32m<ipython-input-59-3e3465717492>\u001b[0m in \u001b[0;36m<cell line: 9>\u001b[0;34m()\u001b[0m\n\u001b[1;32m      7\u001b[0m                                                       {\"category\":'HARM_CATEGORY_HATE_SPEECH',\n\u001b[1;32m      8\u001b[0m                                                        \"threshold\":'BLOCK_LOW_AND_ABOVE'}])\n\u001b[0;32m----> 9\u001b[0;31m \u001b[0mresponse\u001b[0m\u001b[0;34m.\u001b[0m\u001b[0mtext\u001b[0m\u001b[0;34m\u001b[0m\u001b[0;34m\u001b[0m\u001b[0m\n\u001b[0m\u001b[1;32m     10\u001b[0m \u001b[0;34m\u001b[0m\u001b[0m\n",
            "\u001b[0;32m/usr/local/lib/python3.10/dist-packages/google/generativeai/types/generation_types.py\u001b[0m in \u001b[0;36mtext\u001b[0;34m(self)\u001b[0m\n\u001b[1;32m    434\u001b[0m         \u001b[0mparts\u001b[0m \u001b[0;34m=\u001b[0m \u001b[0mself\u001b[0m\u001b[0;34m.\u001b[0m\u001b[0mparts\u001b[0m\u001b[0;34m\u001b[0m\u001b[0;34m\u001b[0m\u001b[0m\n\u001b[1;32m    435\u001b[0m         \u001b[0;32mif\u001b[0m \u001b[0;32mnot\u001b[0m \u001b[0mparts\u001b[0m\u001b[0;34m:\u001b[0m\u001b[0;34m\u001b[0m\u001b[0;34m\u001b[0m\u001b[0m\n\u001b[0;32m--> 436\u001b[0;31m             raise ValueError(\n\u001b[0m\u001b[1;32m    437\u001b[0m                 \u001b[0;34m\"Invalid operation: The `response.text` quick accessor requires the response to contain a valid `Part`, \"\u001b[0m\u001b[0;34m\u001b[0m\u001b[0;34m\u001b[0m\u001b[0m\n\u001b[1;32m    438\u001b[0m                 \u001b[0;34m\"but none were returned. Please check the `candidate.safety_ratings` to determine if the response was blocked.\"\u001b[0m\u001b[0;34m\u001b[0m\u001b[0;34m\u001b[0m\u001b[0m\n",
            "\u001b[0;31mValueError\u001b[0m: Invalid operation: The `response.text` quick accessor requires the response to contain a valid `Part`, but none were returned. Please check the `candidate.safety_ratings` to determine if the response was blocked."
          ]
        }
      ]
    },
    {
      "cell_type": "markdown",
      "source": [
        "In the above response we can see the model did not generate any because it was restriceted by the model parameters that we had given it."
      ],
      "metadata": {
        "id": "2fQun5bSreQB"
      }
    },
    {
      "cell_type": "markdown",
      "source": [
        "#Configuring Hyperparameters with GenerationConfig\n"
      ],
      "metadata": {
        "id": "8mokKKtZrtNI"
      }
    },
    {
      "cell_type": "code",
      "source": [
        "response = model.generate_content(\"Explain Quantum Mechanics to a five year old?\",\n",
        "                                  generation_config=genai.types.GenerationConfig(\n",
        "                                  candidate_count=1,\n",
        "                                  #stop_sequences=['.'],\n",
        "                                  #max_output_tokens=2000,\n",
        "                                  top_p = 0.7,\n",
        "                                  top_k = 4,\n",
        "                                  temperature=0.7)\n",
        "                                  )\n",
        "Markdown(response.text)"
      ],
      "metadata": {
        "colab": {
          "base_uri": "https://localhost:8080/",
          "height": 186
        },
        "id": "5Iw3d-MZrGKe",
        "outputId": "fb866a97-571e-4395-da04-e7e7fc9950c7"
      },
      "execution_count": 66,
      "outputs": [
        {
          "output_type": "execute_result",
          "data": {
            "text/plain": [
              "<IPython.core.display.Markdown object>"
            ],
            "text/markdown": "Imagine you have a box with a toy inside. You can't see the toy, but you know it's there. Now, if you open the box, you'll see the toy. But in quantum mechanics, things can be a little different.\n\nIn quantum mechanics, the toy can be in many places at the same time, like a ghost! It's like the toy is hiding in all the possible places it could be. But when you open the box, it chooses one place to be.\n\nIt's like when you play hide-and-seek. Your friend can be hiding in many places, but when you find them, they're only in one place. Quantum mechanics is like that, but it happens with tiny things like atoms and light.\n\nSo, quantum mechanics is like a magic box where things can be in many places at once, but when you look, they choose one place to be. It's a very strange and wonderful world!"
          },
          "metadata": {},
          "execution_count": 66
        }
      ]
    },
    {
      "cell_type": "markdown",
      "source": [
        "# Chat Conversations"
      ],
      "metadata": {
        "id": "RggiSVD3sKUg"
      }
    },
    {
      "cell_type": "markdown",
      "source": [
        "Gemini enables you to have freeform conversations across multiple turns. The ChatSession class simplifies the process by managing the state of the conversation, so unlike with generate_content, you do not have to store the conversation history as a list."
      ],
      "metadata": {
        "id": "e2aglBcpsOPJ"
      }
    },
    {
      "cell_type": "code",
      "source": [
        "model = genai.GenerativeModel('gemini-pro')\n",
        "chat = model.start_chat(history=[])\n",
        "chat\n",
        ""
      ],
      "metadata": {
        "colab": {
          "base_uri": "https://localhost:8080/"
        },
        "id": "BCezsQRxrwWZ",
        "outputId": "436683db-d910-462c-829c-04e4ddcc9c20"
      },
      "execution_count": 67,
      "outputs": [
        {
          "output_type": "execute_result",
          "data": {
            "text/plain": [
              "ChatSession(\n",
              "    model=genai.GenerativeModel(\n",
              "        model_name='models/gemini-pro',\n",
              "        generation_config={},\n",
              "        safety_settings={},\n",
              "        tools=None,\n",
              "        system_instruction=None,\n",
              "        cached_content=None\n",
              "    ),\n",
              "    history=[]\n",
              ")"
            ]
          },
          "metadata": {},
          "execution_count": 67
        }
      ]
    },
    {
      "cell_type": "code",
      "source": [
        "%%time\n",
        "response = chat.send_message(\"Why are CS engineers trying to automate themselves ?\")\n",
        "Markdown(response.text)\n"
      ],
      "metadata": {
        "colab": {
          "base_uri": "https://localhost:8080/",
          "height": 651
        },
        "id": "cuVIiWREsQ_1",
        "outputId": "14846cdc-408e-4598-c8b5-ea8971f2ac95"
      },
      "execution_count": 69,
      "outputs": [
        {
          "output_type": "stream",
          "name": "stdout",
          "text": [
            "CPU times: user 127 ms, sys: 20.8 ms, total: 148 ms\n",
            "Wall time: 9.6 s\n"
          ]
        },
        {
          "output_type": "execute_result",
          "data": {
            "text/plain": [
              "<IPython.core.display.Markdown object>"
            ],
            "text/markdown": "**Reasons Why CS Engineers Are Trying to Automate Themselves:**\n\n* **Increased Efficiency and Productivity:** Automation allows engineers to automate repetitive and time-consuming tasks, freeing up their time for more complex and strategic work. This can lead to significant productivity gains and faster project completion times.\n\n* **Reduced Costs:** Automating tasks can reduce the need for human engineers, resulting in lower labor costs. This can be especially beneficial for large-scale projects or companies with tight budgets.\n\n* **Improved Quality:** Automated systems can perform tasks with greater accuracy and consistency than humans, reducing the likelihood of errors. This can lead to higher quality software and fewer defects.\n\n* **Faster Development and Deployment:** Automation can streamline development and deployment processes, enabling engineers to deliver software changes more quickly. This can be critical for businesses that need to respond rapidly to changing market demands.\n\n* **Improved Collaboration and Communication:** Automation tools can facilitate collaboration among engineers by providing shared platforms for task management, documentation, and communication. This can break down silos and improve overall team efficiency.\n\n* **Reduced Human Bias:** Automated systems are not subject to biases that can affect human engineers, ensuring fair and impartial decision-making. This is especially important for tasks that involve sensitive data or require objective analysis.\n\n* **Continuous Improvement:** Automated systems can continuously monitor and analyze performance, providing insights for ongoing optimization and improvement. This can help engineers identify bottlenecks and make data-driven decisions to improve their processes.\n\n* **Lifelong Learning and Skill Enhancement:** Automating tasks allows engineers to focus on acquiring higher-level skills that are more difficult to automate, such as problem-solving, decision-making, and creativity. This can help them stay ahead of the curve and remain valuable in the job market.\n\n* **Future-Proofing Careers:** Automation is becoming increasingly prevalent in many industries, and engineers who embrace automation will be better equipped to navigate the changing job market. They will be more likely to secure high-paying jobs and advance their careers.\n\n* **Societal Impact:** Automation can contribute to societal progress by freeing up human resources for more meaningful and fulfilling work, fostering innovation, and improving overall quality of life.\n\nIt's important to note that automation does not aim to replace engineers but rather augment their capabilities and enable them to work more effectively and efficiently. By embracing automation, CS engineers can unlock new possibilities and drive innovation in their field."
          },
          "metadata": {},
          "execution_count": 69
        }
      ]
    },
    {
      "cell_type": "code",
      "source": [
        "chat.history"
      ],
      "metadata": {
        "colab": {
          "base_uri": "https://localhost:8080/"
        },
        "id": "TVAwQRDWsaLz",
        "outputId": "c5b56765-4dd2-48d6-e9a0-a39742af513e"
      },
      "execution_count": 70,
      "outputs": [
        {
          "output_type": "execute_result",
          "data": {
            "text/plain": [
              "[parts {\n",
              "   text: \"Why are CS engineers trying to automate themselves ?\"\n",
              " }\n",
              " role: \"user\",\n",
              " parts {\n",
              "   text: \"**Reasons Why CS Engineers Are Trying to Automate Themselves:**\\n\\n* **Increased Efficiency and Productivity:** Automation allows engineers to automate repetitive and time-consuming tasks, freeing up their time for more complex and strategic work.\\n\\n* **Reduced Costs:** Automating tasks can reduce the need for human engineers, resulting in lower labor costs.\\n\\n* **Improved Quality:** Automated systems can perform tasks with greater accuracy and consistency than humans, reducing the likelihood of errors.\\n\\n* **Faster Development and Deployment:** Automation can streamline development and deployment processes, enabling engineers to deliver software changes more quickly.\\n\\n* **Improved Collaboration and Communication:** Automation tools can facilitate collaboration among engineers by providing shared platforms for task management, documentation, and communication.\\n\\n* **Reduced Human Bias:** Automated systems are not subject to biases that can affect human engineers, ensuring fair and impartial decision-making.\\n\\n* **Continuous Improvement:** Automated systems can continuously monitor and analyze performance, providing insights for ongoing optimization and improvement.\\n\\n* **Lifelong Learning and Skill Enhancement:** Automating tasks allows engineers to focus on acquiring higher-level skills that are more difficult to automate, such as problem-solving, decision-making, and creativity.\\n\\n* **Future-Proofing Careers:** Automation is becoming increasingly prevalent in many industries, and engineers who embrace automation will be better equipped to navigate the changing job market.\\n\\n* **Societal Impact:** Automation can contribute to societal progress by freeing up human resources for more meaningful and fulfilling work, fostering innovation, and improving overall quality of life.\\n\\nIt\\'s important to note that automation does not aim to replace engineers but rather augment their capabilities and enable them to work more effectively and efficiently.\"\n",
              " }\n",
              " role: \"model\",\n",
              " parts {\n",
              "   text: \"Why are CS engineers trying to automate themselves ?\"\n",
              " }\n",
              " role: \"user\",\n",
              " parts {\n",
              "   text: \"**Reasons Why CS Engineers Are Trying to Automate Themselves:**\\n\\n* **Increased Efficiency and Productivity:** Automation allows engineers to automate repetitive and time-consuming tasks, freeing up their time for more complex and strategic work. This can lead to significant productivity gains and faster project completion times.\\n\\n* **Reduced Costs:** Automating tasks can reduce the need for human engineers, resulting in lower labor costs. This can be especially beneficial for large-scale projects or companies with tight budgets.\\n\\n* **Improved Quality:** Automated systems can perform tasks with greater accuracy and consistency than humans, reducing the likelihood of errors. This can lead to higher quality software and fewer defects.\\n\\n* **Faster Development and Deployment:** Automation can streamline development and deployment processes, enabling engineers to deliver software changes more quickly. This can be critical for businesses that need to respond rapidly to changing market demands.\\n\\n* **Improved Collaboration and Communication:** Automation tools can facilitate collaboration among engineers by providing shared platforms for task management, documentation, and communication. This can break down silos and improve overall team efficiency.\\n\\n* **Reduced Human Bias:** Automated systems are not subject to biases that can affect human engineers, ensuring fair and impartial decision-making. This is especially important for tasks that involve sensitive data or require objective analysis.\\n\\n* **Continuous Improvement:** Automated systems can continuously monitor and analyze performance, providing insights for ongoing optimization and improvement. This can help engineers identify bottlenecks and make data-driven decisions to improve their processes.\\n\\n* **Lifelong Learning and Skill Enhancement:** Automating tasks allows engineers to focus on acquiring higher-level skills that are more difficult to automate, such as problem-solving, decision-making, and creativity. This can help them stay ahead of the curve and remain valuable in the job market.\\n\\n* **Future-Proofing Careers:** Automation is becoming increasingly prevalent in many industries, and engineers who embrace automation will be better equipped to navigate the changing job market. They will be more likely to secure high-paying jobs and advance their careers.\\n\\n* **Societal Impact:** Automation can contribute to societal progress by freeing up human resources for more meaningful and fulfilling work, fostering innovation, and improving overall quality of life.\\n\\nIt\\'s important to note that automation does not aim to replace engineers but rather augment their capabilities and enable them to work more effectively and efficiently. By embracing automation, CS engineers can unlock new possibilities and drive innovation in their field.\"\n",
              " }\n",
              " role: \"model\"]"
            ]
          },
          "metadata": {},
          "execution_count": 70
        }
      ]
    },
    {
      "cell_type": "code",
      "source": [
        "response = chat.send_message(\"Can you explain how automating CS engineers can effect the economy?\")\n",
        "Markdown(response.text)"
      ],
      "metadata": {
        "colab": {
          "base_uri": "https://localhost:8080/",
          "height": 528
        },
        "id": "9nfvi97oslsS",
        "outputId": "8b8cf267-d1ba-416a-da98-36c39249fbd5"
      },
      "execution_count": 71,
      "outputs": [
        {
          "output_type": "execute_result",
          "data": {
            "text/plain": [
              "<IPython.core.display.Markdown object>"
            ],
            "text/markdown": "Automating CS engineers can have both positive and negative effects on the economy:\n\n**Positive Effects:**\n\n* **Increased Productivity:** Automation can significantly increase the productivity of CS engineers, allowing them to complete more tasks in less time. This can lead to faster development and deployment of software products and services, which can benefit businesses and consumers alike.\n* **Reduced Costs:** Automating tasks can reduce the need for human engineers, resulting in lower labor costs. This can make it more affordable for businesses to develop and deploy software solutions, which can stimulate economic growth.\n* **New Job Creation:** While automation may eliminate some routine engineering tasks, it can also create new jobs that require higher-level skills, such as designing, developing, and maintaining automated systems. This can lead to a shift in the job market towards more specialized and knowledge-based roles.\n* **Innovation and Economic Growth:** Automation can free up engineers to focus on more complex and creative tasks, which can drive innovation and lead to the development of new products and services. This can contribute to overall economic growth and competitiveness.\n\n**Negative Effects:**\n\n* **Job Displacement:** Automation can lead to job displacement for some CS engineers, particularly those who perform routine and repetitive tasks. This can have a negative impact on individuals and families, as well as on the broader economy.\n* **Wage Inequality:** Automation can contribute to wage inequality, as the demand for highly skilled engineers who can design and maintain automated systems increases, while the demand for routine engineering tasks decreases. This can lead to a widening gap between the earnings of high-skilled and low-skilled workers.\n* **Dependence on Technology:** Increased reliance on automation can make businesses and the economy more vulnerable to technological disruptions and failures. If automated systems fail or become outdated, it can disrupt operations and lead to economic losses.\n\nOverall, the economic impact of automating CS engineers is complex and depends on a variety of factors, such as the specific tasks being automated, the pace of automation, and the government policies and programs in place to support affected workers. It is important to carefully consider both the potential benefits and risks of automation in order to mitigate negative effects and maximize the positive impact on the economy."
          },
          "metadata": {},
          "execution_count": 71
        }
      ]
    },
    {
      "cell_type": "code",
      "source": [
        "for message in chat.history:\n",
        "  display(Markdown(f'**{message.role}**: {message.parts[0].text}'))\n",
        ""
      ],
      "metadata": {
        "colab": {
          "base_uri": "https://localhost:8080/",
          "height": 1000
        },
        "id": "a1sxvEres2vj",
        "outputId": "05241cc7-f993-4eb2-fd82-3e233af6aba8"
      },
      "execution_count": 72,
      "outputs": [
        {
          "output_type": "display_data",
          "data": {
            "text/plain": [
              "<IPython.core.display.Markdown object>"
            ],
            "text/markdown": "**user**: Why are CS engineers trying to automate themselves ?"
          },
          "metadata": {}
        },
        {
          "output_type": "display_data",
          "data": {
            "text/plain": [
              "<IPython.core.display.Markdown object>"
            ],
            "text/markdown": "**model**: **Reasons Why CS Engineers Are Trying to Automate Themselves:**\n\n* **Increased Efficiency and Productivity:** Automation allows engineers to automate repetitive and time-consuming tasks, freeing up their time for more complex and strategic work.\n\n* **Reduced Costs:** Automating tasks can reduce the need for human engineers, resulting in lower labor costs.\n\n* **Improved Quality:** Automated systems can perform tasks with greater accuracy and consistency than humans, reducing the likelihood of errors.\n\n* **Faster Development and Deployment:** Automation can streamline development and deployment processes, enabling engineers to deliver software changes more quickly.\n\n* **Improved Collaboration and Communication:** Automation tools can facilitate collaboration among engineers by providing shared platforms for task management, documentation, and communication.\n\n* **Reduced Human Bias:** Automated systems are not subject to biases that can affect human engineers, ensuring fair and impartial decision-making.\n\n* **Continuous Improvement:** Automated systems can continuously monitor and analyze performance, providing insights for ongoing optimization and improvement.\n\n* **Lifelong Learning and Skill Enhancement:** Automating tasks allows engineers to focus on acquiring higher-level skills that are more difficult to automate, such as problem-solving, decision-making, and creativity.\n\n* **Future-Proofing Careers:** Automation is becoming increasingly prevalent in many industries, and engineers who embrace automation will be better equipped to navigate the changing job market.\n\n* **Societal Impact:** Automation can contribute to societal progress by freeing up human resources for more meaningful and fulfilling work, fostering innovation, and improving overall quality of life.\n\nIt's important to note that automation does not aim to replace engineers but rather augment their capabilities and enable them to work more effectively and efficiently."
          },
          "metadata": {}
        },
        {
          "output_type": "display_data",
          "data": {
            "text/plain": [
              "<IPython.core.display.Markdown object>"
            ],
            "text/markdown": "**user**: Why are CS engineers trying to automate themselves ?"
          },
          "metadata": {}
        },
        {
          "output_type": "display_data",
          "data": {
            "text/plain": [
              "<IPython.core.display.Markdown object>"
            ],
            "text/markdown": "**model**: **Reasons Why CS Engineers Are Trying to Automate Themselves:**\n\n* **Increased Efficiency and Productivity:** Automation allows engineers to automate repetitive and time-consuming tasks, freeing up their time for more complex and strategic work. This can lead to significant productivity gains and faster project completion times.\n\n* **Reduced Costs:** Automating tasks can reduce the need for human engineers, resulting in lower labor costs. This can be especially beneficial for large-scale projects or companies with tight budgets.\n\n* **Improved Quality:** Automated systems can perform tasks with greater accuracy and consistency than humans, reducing the likelihood of errors. This can lead to higher quality software and fewer defects.\n\n* **Faster Development and Deployment:** Automation can streamline development and deployment processes, enabling engineers to deliver software changes more quickly. This can be critical for businesses that need to respond rapidly to changing market demands.\n\n* **Improved Collaboration and Communication:** Automation tools can facilitate collaboration among engineers by providing shared platforms for task management, documentation, and communication. This can break down silos and improve overall team efficiency.\n\n* **Reduced Human Bias:** Automated systems are not subject to biases that can affect human engineers, ensuring fair and impartial decision-making. This is especially important for tasks that involve sensitive data or require objective analysis.\n\n* **Continuous Improvement:** Automated systems can continuously monitor and analyze performance, providing insights for ongoing optimization and improvement. This can help engineers identify bottlenecks and make data-driven decisions to improve their processes.\n\n* **Lifelong Learning and Skill Enhancement:** Automating tasks allows engineers to focus on acquiring higher-level skills that are more difficult to automate, such as problem-solving, decision-making, and creativity. This can help them stay ahead of the curve and remain valuable in the job market.\n\n* **Future-Proofing Careers:** Automation is becoming increasingly prevalent in many industries, and engineers who embrace automation will be better equipped to navigate the changing job market. They will be more likely to secure high-paying jobs and advance their careers.\n\n* **Societal Impact:** Automation can contribute to societal progress by freeing up human resources for more meaningful and fulfilling work, fostering innovation, and improving overall quality of life.\n\nIt's important to note that automation does not aim to replace engineers but rather augment their capabilities and enable them to work more effectively and efficiently. By embracing automation, CS engineers can unlock new possibilities and drive innovation in their field."
          },
          "metadata": {}
        },
        {
          "output_type": "display_data",
          "data": {
            "text/plain": [
              "<IPython.core.display.Markdown object>"
            ],
            "text/markdown": "**user**: Can you explain how automating CS engineers can effect the economy?"
          },
          "metadata": {}
        },
        {
          "output_type": "display_data",
          "data": {
            "text/plain": [
              "<IPython.core.display.Markdown object>"
            ],
            "text/markdown": "**model**: Automating CS engineers can have both positive and negative effects on the economy:\n\n**Positive Effects:**\n\n* **Increased Productivity:** Automation can significantly increase the productivity of CS engineers, allowing them to complete more tasks in less time. This can lead to faster development and deployment of software products and services, which can benefit businesses and consumers alike.\n* **Reduced Costs:** Automating tasks can reduce the need for human engineers, resulting in lower labor costs. This can make it more affordable for businesses to develop and deploy software solutions, which can stimulate economic growth.\n* **New Job Creation:** While automation may eliminate some routine engineering tasks, it can also create new jobs that require higher-level skills, such as designing, developing, and maintaining automated systems. This can lead to a shift in the job market towards more specialized and knowledge-based roles.\n* **Innovation and Economic Growth:** Automation can free up engineers to focus on more complex and creative tasks, which can drive innovation and lead to the development of new products and services. This can contribute to overall economic growth and competitiveness.\n\n**Negative Effects:**\n\n* **Job Displacement:** Automation can lead to job displacement for some CS engineers, particularly those who perform routine and repetitive tasks. This can have a negative impact on individuals and families, as well as on the broader economy.\n* **Wage Inequality:** Automation can contribute to wage inequality, as the demand for highly skilled engineers who can design and maintain automated systems increases, while the demand for routine engineering tasks decreases. This can lead to a widening gap between the earnings of high-skilled and low-skilled workers.\n* **Dependence on Technology:** Increased reliance on automation can make businesses and the economy more vulnerable to technological disruptions and failures. If automated systems fail or become outdated, it can disrupt operations and lead to economic losses.\n\nOverall, the economic impact of automating CS engineers is complex and depends on a variety of factors, such as the specific tasks being automated, the pace of automation, and the government policies and programs in place to support affected workers. It is important to carefully consider both the potential benefits and risks of automation in order to mitigate negative effects and maximize the positive impact on the economy."
          },
          "metadata": {}
        }
      ]
    },
    {
      "cell_type": "markdown",
      "source": [
        "# Embeddings"
      ],
      "metadata": {
        "id": "JZYAC4attKQ2"
      }
    },
    {
      "cell_type": "markdown",
      "source": [
        "Embeddings are important for any kind of LLM's and even for RAG models. So i will just look at a few code snippets that will allow us to generate embeddings using gemini."
      ],
      "metadata": {
        "id": "vrJRmCJkuYyl"
      }
    },
    {
      "cell_type": "markdown",
      "source": [
        "Code for a single line embedding"
      ],
      "metadata": {
        "id": "5_z9-X-4vwiP"
      }
    },
    {
      "cell_type": "code",
      "source": [
        "result = genai.embed_content(\n",
        "    model=\"models/embedding-001\",\n",
        "    content=\"Why life?\",\n",
        "    task_type=\"retrieval_document\",\n",
        "    title=\"Embedding of single string\")\n",
        "\n",
        "# 1 input > 1 vector output\n",
        "print(str(result['embedding'])[:50], '... TRIMMED]')"
      ],
      "metadata": {
        "colab": {
          "base_uri": "https://localhost:8080/",
          "height": 34
        },
        "id": "j1CwmX8ks_3f",
        "outputId": "f5b8d2ed-ca93-489f-c3ac-97903462eac7"
      },
      "execution_count": 73,
      "outputs": [
        {
          "output_type": "stream",
          "name": "stdout",
          "text": [
            "[0.020428302, -0.027739925, -0.030644633, -0.00938 ... TRIMMED]\n"
          ]
        }
      ]
    },
    {
      "cell_type": "code",
      "source": [
        "# Code for multi line embedding\n",
        "result = genai.embed_content(\n",
        "    model=\"models/embedding-001\",\n",
        "    content=[\n",
        "      'What is the meaning of life?',\n",
        "      'How much wood would a woodchuck chuck?',\n",
        "      'How does the brain work?'],\n",
        "    task_type=\"retrieval_document\",\n",
        "    title=\"Embedding of list of strings\")\n",
        "\n",
        "# A list of inputs > A list of vectors output\n",
        "for v in result['embedding']:\n",
        "  print(str(v)[:50], '... TRIMMED ...')"
      ],
      "metadata": {
        "colab": {
          "base_uri": "https://localhost:8080/",
          "height": 69
        },
        "id": "m32jP3Zmvo3h",
        "outputId": "4e29c702-258e-40a9-cbbf-cd1a3f5b1513"
      },
      "execution_count": 78,
      "outputs": [
        {
          "output_type": "stream",
          "name": "stdout",
          "text": [
            "[0.0040260437, 0.004124458, -0.014209415, -0.00183 ... TRIMMED ...\n",
            "[-0.004049845, -0.0075574904, -0.0073463684, -0.03 ... TRIMMED ...\n",
            "[0.025310587, -0.0080734305, -0.029902633, 0.01160 ... TRIMMED ...\n"
          ]
        }
      ]
    },
    {
      "cell_type": "code",
      "source": [
        "response.candidates[0].content\n"
      ],
      "metadata": {
        "colab": {
          "base_uri": "https://localhost:8080/"
        },
        "id": "117r57Jzv0iq",
        "outputId": "32219b3e-6465-477b-bd24-e7f70aec5ab0"
      },
      "execution_count": 79,
      "outputs": [
        {
          "output_type": "execute_result",
          "data": {
            "text/plain": [
              "parts {\n",
              "  text: \"Automating CS engineers can have both positive and negative effects on the economy:\\n\\n**Positive Effects:**\\n\\n* **Increased Productivity:** Automation can significantly increase the productivity of CS engineers, allowing them to complete more tasks in less time. This can lead to faster development and deployment of software products and services, which can benefit businesses and consumers alike.\\n* **Reduced Costs:** Automating tasks can reduce the need for human engineers, resulting in lower labor costs. This can make it more affordable for businesses to develop and deploy software solutions, which can stimulate economic growth.\\n* **New Job Creation:** While automation may eliminate some routine engineering tasks, it can also create new jobs that require higher-level skills, such as designing, developing, and maintaining automated systems. This can lead to a shift in the job market towards more specialized and knowledge-based roles.\\n* **Innovation and Economic Growth:** Automation can free up engineers to focus on more complex and creative tasks, which can drive innovation and lead to the development of new products and services. This can contribute to overall economic growth and competitiveness.\\n\\n**Negative Effects:**\\n\\n* **Job Displacement:** Automation can lead to job displacement for some CS engineers, particularly those who perform routine and repetitive tasks. This can have a negative impact on individuals and families, as well as on the broader economy.\\n* **Wage Inequality:** Automation can contribute to wage inequality, as the demand for highly skilled engineers who can design and maintain automated systems increases, while the demand for routine engineering tasks decreases. This can lead to a widening gap between the earnings of high-skilled and low-skilled workers.\\n* **Dependence on Technology:** Increased reliance on automation can make businesses and the economy more vulnerable to technological disruptions and failures. If automated systems fail or become outdated, it can disrupt operations and lead to economic losses.\\n\\nOverall, the economic impact of automating CS engineers is complex and depends on a variety of factors, such as the specific tasks being automated, the pace of automation, and the government policies and programs in place to support affected workers. It is important to carefully consider both the potential benefits and risks of automation in order to mitigate negative effects and maximize the positive impact on the economy.\"\n",
              "}\n",
              "role: \"model\""
            ]
          },
          "metadata": {},
          "execution_count": 79
        }
      ]
    },
    {
      "cell_type": "code",
      "source": [
        "result = genai.embed_content(\n",
        "    model = 'models/embedding-001',\n",
        "    content = response.candidates[0].content)\n",
        "\n",
        "# 1 input > 1 vector output\n",
        "print(str(result['embedding'])[:50], '... TRIMMED ...')\n"
      ],
      "metadata": {
        "colab": {
          "base_uri": "https://localhost:8080/",
          "height": 34
        },
        "id": "N4hV-Y7swKiE",
        "outputId": "d6bf233f-2c6a-4471-f0fe-d01bdc1ee4fe"
      },
      "execution_count": 80,
      "outputs": [
        {
          "output_type": "stream",
          "name": "stdout",
          "text": [
            "[0.035821218, -0.063806206, -0.017146667, -0.01748 ... TRIMMED ...\n"
          ]
        }
      ]
    },
    {
      "cell_type": "code",
      "source": [
        "response.prompt_feedback\n"
      ],
      "metadata": {
        "colab": {
          "base_uri": "https://localhost:8080/"
        },
        "id": "snAb1DlywPfA",
        "outputId": "c900ff5c-de9a-4f5e-bc95-ef0ab8af1dd6"
      },
      "execution_count": 81,
      "outputs": [
        {
          "output_type": "execute_result",
          "data": {
            "text/plain": []
          },
          "metadata": {},
          "execution_count": 81
        }
      ]
    },
    {
      "cell_type": "code",
      "source": [],
      "metadata": {
        "id": "W0aEjaMxwa2w"
      },
      "execution_count": null,
      "outputs": []
    }
  ]
}